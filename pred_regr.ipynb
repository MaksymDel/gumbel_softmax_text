{
 "cells": [
  {
   "cell_type": "code",
   "execution_count": 1,
   "metadata": {},
   "outputs": [],
   "source": [
    "%load_ext autoreload\n",
    "%autoreload 2"
   ]
  },
  {
   "cell_type": "code",
   "execution_count": 2,
   "metadata": {},
   "outputs": [],
   "source": [
    "import gensim\n",
    "import my_library\n",
    "import numpy\n",
    "from allennlp.models.archival import load_archive\n",
    "from allennlp.predictors import Predictor"
   ]
  },
  {
   "cell_type": "code",
   "execution_count": 13,
   "metadata": {},
   "outputs": [],
   "source": [
    "from allennlp.common.params import Params"
   ]
  },
  {
   "cell_type": "code",
   "execution_count": 17,
   "metadata": {},
   "outputs": [],
   "source": [
    "from allennlp.modules import Embedding, TokenEmbedder"
   ]
  },
  {
   "cell_type": "code",
   "execution_count": 3,
   "metadata": {},
   "outputs": [],
   "source": [
    "def topn(ve, topk=10, restrict_vocab=None):\n",
    "    ve = numpy.asarray(ve)\n",
    "    return wspace.similar_by_vector(ve, topk, restrict_vocab)\n",
    "\n",
    "def generate(src):\n",
    "    res = predictor.predict(src)\n",
    "    out = []\n",
    "    for i, v in enumerate(res):\n",
    "        stop = False\n",
    "        wt = topn(v)\n",
    "        w = wt[0]\n",
    "        out.append(w[0])\n",
    "        if w[0] in \"...!!!???\":\n",
    "            stop = True\n",
    "        \n",
    "        if stop:\n",
    "            break\n",
    "    print(\" \".join(out))"
   ]
  },
  {
   "cell_type": "markdown",
   "metadata": {},
   "source": [
    "load w2v model"
   ]
  },
  {
   "cell_type": "code",
   "execution_count": 61,
   "metadata": {},
   "outputs": [],
   "source": [
    "# wspace = gensim.models.KeyedVectors.load_word2vec_format('data/cc.en.300.vec')\n",
    "wspace = gensim.models.KeyedVectors.load_word2vec_format('emb50k.vec')"
   ]
  },
  {
   "cell_type": "code",
   "execution_count": 89,
   "metadata": {},
   "outputs": [
    {
     "name": "stdout",
     "output_type": "stream",
     "text": [
      "if 300\n",
      "after 300 300\n"
     ]
    }
   ],
   "source": [
    "#archive = load_archive('models/seq2seq_vanilla_words_regr_mse/model.tar.gz')\n",
    "archive = load_archive('models/seq2seq_vanilla_words_regr_co/model.tar.gz')\n",
    "predictor = Predictor.from_archive(archive, 'regr_seq2seq')"
   ]
  },
  {
   "cell_type": "code",
   "execution_count": 90,
   "metadata": {},
   "outputs": [
    {
     "name": "stdout",
     "output_type": "stream",
     "text": [
      "thank you .\n"
     ]
    }
   ],
   "source": [
    "generate(\"danke\")"
   ]
  },
  {
   "cell_type": "code",
   "execution_count": 91,
   "metadata": {},
   "outputs": [
    {
     "name": "stdout",
     "output_type": "stream",
     "text": [
      "i i want to to to .\n"
     ]
    }
   ],
   "source": [
    "generate(\"ich möchte dich zum abendessen einladen .\")"
   ]
  },
  {
   "cell_type": "code",
   "execution_count": 92,
   "metadata": {},
   "outputs": [
    {
     "name": "stdout",
     "output_type": "stream",
     "text": [
      "five , , , , .\n"
     ]
    }
   ],
   "source": [
    "generate(\"sieben , acht , neun , zehn\")"
   ]
  },
  {
   "cell_type": "code",
   "execution_count": 93,
   "metadata": {},
   "outputs": [
    {
     "name": "stdout",
     "output_type": "stream",
     "text": [
      "i you you .\n"
     ]
    }
   ],
   "source": [
    "generate('ich liebe dich')"
   ]
  },
  {
   "cell_type": "code",
   "execution_count": null,
   "metadata": {},
   "outputs": [],
   "source": []
  }
 ],
 "metadata": {
  "kernelspec": {
   "display_name": "Python 3",
   "language": "python",
   "name": "python3"
  },
  "language_info": {
   "codemirror_mode": {
    "name": "ipython",
    "version": 3
   },
   "file_extension": ".py",
   "mimetype": "text/x-python",
   "name": "python",
   "nbconvert_exporter": "python",
   "pygments_lexer": "ipython3",
   "version": "3.6.6"
  }
 },
 "nbformat": 4,
 "nbformat_minor": 2
}
